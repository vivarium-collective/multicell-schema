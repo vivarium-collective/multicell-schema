{
 "cells": [
  {
   "cell_type": "code",
   "id": "initial_id",
   "metadata": {
    "collapsed": true,
    "ExecuteTime": {
     "end_time": "2025-01-25T23:08:49.777343Z",
     "start_time": "2025-01-25T23:08:49.677576Z"
    }
   },
   "source": [
    "from distutils.command.build import build\n",
    "\n",
    "from multicell_utils.builder import ModelBuilder, ProcessCreator, ObjectCreator"
   ],
   "outputs": [
    {
     "name": "stdout",
     "output_type": "stream",
     "text": [
      "Failed to register object schema 'example_object2 with metaschema {'type': 'object', 'properties': {'type': {'type': 'string'}, 'boundary_conditions': {'type': 'object'}, 'contained_object_types': {'type': 'array'}, 'attributes': {'type': 'object'}, 'inherits_from': {'type': 'array'}}, 'required': ['type', 'attributes']}': 'schema/object/example_object.json' is not of type 'array'\n",
      "Failed to register process schema 'example_process': 'update' is a required property\n",
      "Failed to register schema 'cell_sorting' from file 'cell_sorting.json': 'type'\n",
      "Failed to register schema 'cellular_potts' from file 'cellular_potts.json': 'type'\n"
     ]
    }
   ],
   "execution_count": 1
  },
  {
   "metadata": {
    "ExecuteTime": {
     "end_time": "2025-01-25T23:08:49.840988Z",
     "start_time": "2025-01-25T23:08:49.837121Z"
    }
   },
   "cell_type": "code",
   "source": [
    "demo_model = ModelBuilder(model_name='demo')\n",
    "demo_model.add_object(name='universe', obj_type='Universe', contained_objects=['cell field'])\n",
    "demo_model.add_object(name='cell field', obj_type='CellField', contained_objects=['cell'])\n",
    "demo_model.add_object(name='cell', obj_type='Cell')\n",
    "demo_model.add_process(name='growth', proc_type='Growth', participating_objects='cell')\n",
    "demo_model.add_process(name='volume exclusion', proc_type='VolumeExclusion', participating_objects='cell field')\n",
    "demo_model"
   ],
   "id": "b8cc70641671572d",
   "outputs": [
    {
     "data": {
      "text/plain": [
       "ModelBuilder({ 'id': 'model_000005',\n",
       "  'name': 'demo',\n",
       "  'objects': { 'cell': { 'attributes': {},\n",
       "                         'boundary_conditions': {},\n",
       "                         'type': 'Cell'},\n",
       "               'cell field': { 'attributes': {},\n",
       "                               'boundary_conditions': {},\n",
       "                               'type': 'CellField'},\n",
       "               'universe': { 'attributes': {},\n",
       "                             'boundary_conditions': {},\n",
       "                             'type': 'Universe'}},\n",
       "  'processes': { 'growth': { 'attributes': {},\n",
       "                             'participating_objects': ['cell'],\n",
       "                             'type': 'Growth'},\n",
       "                 'volume exclusion': { 'attributes': {},\n",
       "                                       'participating_objects': ['cell field'],\n",
       "                                       'type': 'VolumeExclusion'}},\n",
       "  'structure': {'cell field': ['cell'], 'universe': ['cell field']}})"
      ]
     },
     "execution_count": 2,
     "metadata": {},
     "output_type": "execute_result"
    }
   ],
   "execution_count": 2
  },
  {
   "metadata": {
    "ExecuteTime": {
     "end_time": "2025-01-25T23:08:49.918060Z",
     "start_time": "2025-01-25T23:08:49.907953Z"
    }
   },
   "cell_type": "code",
   "source": [
    "demo_model.verify()\n",
    "demo_model.save(filename='demo_model.json')"
   ],
   "id": "e3d6f5254b7a6f67",
   "outputs": [
    {
     "name": "stdout",
     "output_type": "stream",
     "text": [
      "Schema Universe is valid.\n",
      "Schema CellField is valid.\n",
      "Schema Cell is valid.\n",
      "Schema Growth: is invalid: \n",
      " 'update' is a required property\n",
      "Schema VolumeExclusion: is invalid: \n",
      " 'update' is a required property\n",
      "Invalid containment: Universe not found in allowed containments\n",
      "Schema Universe is valid.\n",
      "Schema CellField is valid.\n",
      "Schema Cell is valid.\n",
      "Schema Growth: is invalid: \n",
      " 'update' is a required property\n",
      "Schema VolumeExclusion: is invalid: \n",
      " 'update' is a required property\n",
      "Invalid containment: Universe not found in allowed containments\n",
      "Model saved to models/demo_model.json\n"
     ]
    }
   ],
   "execution_count": 3
  },
  {
   "metadata": {
    "ExecuteTime": {
     "end_time": "2025-01-25T23:08:49.992451Z",
     "start_time": "2025-01-25T23:08:49.960655Z"
    }
   },
   "cell_type": "code",
   "source": "demo_model.graph()",
   "id": "e0d4e3c4a9b2d971",
   "outputs": [
    {
     "data": {
      "image/svg+xml": "<?xml version=\"1.0\" encoding=\"UTF-8\" standalone=\"no\"?>\n<!DOCTYPE svg PUBLIC \"-//W3C//DTD SVG 1.1//EN\"\n \"http://www.w3.org/Graphics/SVG/1.1/DTD/svg11.dtd\">\n<!-- Generated by graphviz version 9.0.0 (0)\n -->\n<!-- Pages: 1 -->\n<svg width=\"335pt\" height=\"533pt\"\n viewBox=\"0.00 0.00 335.33 533.38\" xmlns=\"http://www.w3.org/2000/svg\" xmlns:xlink=\"http://www.w3.org/1999/xlink\">\n<g id=\"graph0\" class=\"graph\" transform=\"scale(1 1) rotate(0) translate(4 529.38)\">\n<polygon fill=\"white\" stroke=\"none\" points=\"-4,4 -4,-529.38 331.33,-529.38 331.33,4 -4,4\"/>\n<!-- universe -->\n<g id=\"node1\" class=\"node\">\n<title>universe</title>\n<ellipse fill=\"none\" stroke=\"black\" cx=\"134.16\" cy=\"-450.93\" rx=\"74.45\" ry=\"74.45\"/>\n<text text-anchor=\"middle\" x=\"134.16\" y=\"-446.73\" font-family=\"Times,serif\" font-size=\"14.00\">universe:Universe</text>\n</g>\n<!-- cell field -->\n<g id=\"node2\" class=\"node\">\n<title>cell field</title>\n<ellipse fill=\"none\" stroke=\"black\" cx=\"134.16\" cy=\"-264.31\" rx=\"76.18\" ry=\"76.18\"/>\n<text text-anchor=\"middle\" x=\"134.16\" y=\"-260.11\" font-family=\"Times,serif\" font-size=\"14.00\">cell field:CellField</text>\n</g>\n<!-- universe&#45;&gt;cell field -->\n<g id=\"edge3\" class=\"edge\">\n<title>universe&#45;&gt;cell field</title>\n<path fill=\"none\" stroke=\"black\" stroke-width=\"2\" d=\"M134.16,-376.17C134.16,-364.52 134.16,-352.46 134.16,-340.77\"/>\n</g>\n<!-- cell -->\n<g id=\"node3\" class=\"node\">\n<title>cell</title>\n<ellipse fill=\"none\" stroke=\"black\" cx=\"51.16\" cy=\"-112.07\" rx=\"40.07\" ry=\"40.07\"/>\n<text text-anchor=\"middle\" x=\"51.16\" y=\"-107.87\" font-family=\"Times,serif\" font-size=\"14.00\">cell:Cell</text>\n</g>\n<!-- cell field&#45;&gt;cell -->\n<g id=\"edge4\" class=\"edge\">\n<title>cell field&#45;&gt;cell</title>\n<path fill=\"none\" stroke=\"black\" stroke-width=\"2\" d=\"M97.52,-196.97C88.14,-179.99 78.42,-162.41 70.32,-147.75\"/>\n</g>\n<!-- volume exclusion -->\n<g id=\"node5\" class=\"node\">\n<title>volume exclusion</title>\n<polygon fill=\"none\" stroke=\"black\" points=\"327.33,-130.07 109,-130.07 109,-94.07 327.33,-94.07 327.33,-130.07\"/>\n<text text-anchor=\"middle\" x=\"218.16\" y=\"-107.87\" font-family=\"Times,serif\" font-size=\"14.00\">volume exclusion:VolumeExclusion</text>\n</g>\n<!-- cell field&#45;&gt;volume exclusion -->\n<g id=\"edge2\" class=\"edge\">\n<title>cell field&#45;&gt;volume exclusion</title>\n<path fill=\"none\" stroke=\"black\" stroke-dasharray=\"5,2\" d=\"M176.51,-187.56C188.52,-166.09 200.49,-144.68 208.49,-130.36\"/>\n<polygon fill=\"black\" stroke=\"black\" points=\"173.57,-185.65 171.74,-196.09 179.68,-189.07 173.57,-185.65\"/>\n</g>\n<!-- growth -->\n<g id=\"node4\" class=\"node\">\n<title>growth</title>\n<polygon fill=\"none\" stroke=\"black\" points=\"102.32,-36 0,-36 0,0 102.32,0 102.32,-36\"/>\n<text text-anchor=\"middle\" x=\"51.16\" y=\"-13.8\" font-family=\"Times,serif\" font-size=\"14.00\">growth:Growth</text>\n</g>\n<!-- cell&#45;&gt;growth -->\n<g id=\"edge1\" class=\"edge\">\n<title>cell&#45;&gt;growth</title>\n<path fill=\"none\" stroke=\"black\" stroke-dasharray=\"5,2\" d=\"M51.16,-60.42C51.16,-51.81 51.16,-43.42 51.16,-36.47\"/>\n<polygon fill=\"black\" stroke=\"black\" points=\"47.66,-60.24 51.16,-70.24 54.66,-60.24 47.66,-60.24\"/>\n</g>\n</g>\n</svg>\n",
      "text/plain": [
       "<graphviz.graphs.Digraph at 0x103a89510>"
      ]
     },
     "execution_count": 4,
     "metadata": {},
     "output_type": "execute_result"
    }
   ],
   "execution_count": 4
  },
  {
   "metadata": {
    "ExecuteTime": {
     "end_time": "2025-01-25T23:08:49.998634Z",
     "start_time": "2025-01-25T23:08:49.997492Z"
    }
   },
   "cell_type": "code",
   "source": "",
   "id": "fa52f4d5c4fa0ccd",
   "outputs": [],
   "execution_count": null
  }
 ],
 "metadata": {
  "kernelspec": {
   "display_name": "Python 3",
   "language": "python",
   "name": "python3"
  },
  "language_info": {
   "codemirror_mode": {
    "name": "ipython",
    "version": 2
   },
   "file_extension": ".py",
   "mimetype": "text/x-python",
   "name": "python",
   "nbconvert_exporter": "python",
   "pygments_lexer": "ipython2",
   "version": "2.7.6"
  }
 },
 "nbformat": 4,
 "nbformat_minor": 5
}
