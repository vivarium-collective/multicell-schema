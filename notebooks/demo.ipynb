{
 "cells": [
  {
   "cell_type": "code",
   "id": "initial_id",
   "metadata": {
    "collapsed": true,
    "ExecuteTime": {
     "end_time": "2025-01-25T22:32:26.154923Z",
     "start_time": "2025-01-25T22:32:26.004561Z"
    }
   },
   "source": [
    "from distutils.command.build import build\n",
    "\n",
    "from multicell_utils.builder import ModelBuilder, ProcessCreator, ObjectCreator"
   ],
   "outputs": [
    {
     "name": "stdout",
     "output_type": "stream",
     "text": [
      "Failed to register object schema 'example_object2 with metaschema {'type': 'object', 'properties': {'type': {'type': 'string'}, 'boundary_conditions': {'type': 'object'}, 'contained_object_types': {'type': 'array'}, 'attributes': {'type': 'object'}, 'inherits_from': {'type': 'array'}}, 'required': ['type', 'attributes']}': 'schema/object/example_object.json' is not of type 'array'\n",
      "Failed to register process schema 'example_process': 'update' is a required property\n"
     ]
    }
   ],
   "execution_count": 1
  },
  {
   "metadata": {
    "ExecuteTime": {
     "end_time": "2025-01-25T22:32:26.221249Z",
     "start_time": "2025-01-25T22:32:26.216296Z"
    }
   },
   "cell_type": "code",
   "source": [
    "demo_model = ModelBuilder(model_name='demo')\n",
    "demo_model.add_object(name='universe', obj_type='Universe', contained_objects=['cell field'])\n",
    "demo_model.add_object(name='cell field', obj_type='CellField', contained_objects=['cell'])\n",
    "demo_model.add_object(name='cell', obj_type='Cell')\n",
    "demo_model.add_process(name='growth', proc_type='Growth', participating_objects='cell')\n",
    "demo_model.add_process(name='volume exclusion', proc_type='VolumeExclusion', participating_objects='cell field')\n",
    "demo_model"
   ],
   "id": "b8cc70641671572d",
   "outputs": [
    {
     "data": {
      "text/plain": [
       "ModelBuilder({ 'id': 'model_000003',\n",
       "  'name': 'demo',\n",
       "  'objects': { 'cell': { 'attributes': {},\n",
       "                         'boundary_conditions': {},\n",
       "                         'type': 'Cell'},\n",
       "               'cell field': { 'attributes': {},\n",
       "                               'boundary_conditions': {},\n",
       "                               'type': 'CellField'},\n",
       "               'universe': { 'attributes': {},\n",
       "                             'boundary_conditions': {},\n",
       "                             'type': 'Universe'}},\n",
       "  'processes': { 'growth': { 'attributes': {},\n",
       "                             'participating_objects': ['cell'],\n",
       "                             'type': 'Growth'},\n",
       "                 'volume exclusion': { 'attributes': {},\n",
       "                                       'participating_objects': ['cell field'],\n",
       "                                       'type': 'VolumeExclusion'}},\n",
       "  'structure': {'cell field': ['cell'], 'universe': ['cell field']}})"
      ]
     },
     "execution_count": 2,
     "metadata": {},
     "output_type": "execute_result"
    }
   ],
   "execution_count": 2
  },
  {
   "metadata": {
    "ExecuteTime": {
     "end_time": "2025-01-25T22:32:26.367934Z",
     "start_time": "2025-01-25T22:32:26.285269Z"
    }
   },
   "cell_type": "code",
   "source": [
    "demo_model.verify()\n",
    "demo_model.save(filename='demo_model.json')"
   ],
   "id": "e3d6f5254b7a6f67",
   "outputs": [
    {
     "name": "stdout",
     "output_type": "stream",
     "text": [
      "Schema Universe is valid.\n",
      "Schema CellField is valid.\n",
      "Schema Cell is valid.\n",
      "Schema Growth: is invalid: \n",
      " 'update' is a required property\n",
      "Schema VolumeExclusion: is invalid: \n",
      " 'update' is a required property\n"
     ]
    },
    {
     "ename": "AssertionError",
     "evalue": "Object 'universe' does not have inheritance information",
     "output_type": "error",
     "traceback": [
      "\u001B[0;31m---------------------------------------------------------------------------\u001B[0m",
      "\u001B[0;31mAssertionError\u001B[0m                            Traceback (most recent call last)",
      "Cell \u001B[0;32mIn[3], line 1\u001B[0m\n\u001B[0;32m----> 1\u001B[0m \u001B[43mdemo_model\u001B[49m\u001B[38;5;241;43m.\u001B[39;49m\u001B[43mverify\u001B[49m\u001B[43m(\u001B[49m\u001B[43m)\u001B[49m\n\u001B[1;32m      2\u001B[0m demo_model\u001B[38;5;241m.\u001B[39msave(filename\u001B[38;5;241m=\u001B[39m\u001B[38;5;124m'\u001B[39m\u001B[38;5;124mdemo_model.json\u001B[39m\u001B[38;5;124m'\u001B[39m)\n",
      "File \u001B[0;32m~/code/multicell-schema/multicell_utils/builder.py:132\u001B[0m, in \u001B[0;36mModelBuilder.verify\u001B[0;34m(self, verbose)\u001B[0m\n\u001B[1;32m    131\u001B[0m \u001B[38;5;28;01mdef\u001B[39;00m \u001B[38;5;21mverify\u001B[39m(\u001B[38;5;28mself\u001B[39m, verbose\u001B[38;5;241m=\u001B[39m\u001B[38;5;28;01mTrue\u001B[39;00m):\n\u001B[0;32m--> 132\u001B[0m     \u001B[43mvalidate_model\u001B[49m\u001B[43m(\u001B[49m\u001B[38;5;28;43mself\u001B[39;49m\u001B[38;5;241;43m.\u001B[39;49m\u001B[43mmodel\u001B[49m\u001B[43m)\u001B[49m\n",
      "File \u001B[0;32m~/code/multicell-schema/multicell_utils/validate.py:60\u001B[0m, in \u001B[0;36mvalidate_model\u001B[0;34m(model)\u001B[0m\n\u001B[1;32m     57\u001B[0m         \u001B[38;5;28mprint\u001B[39m(\u001B[38;5;124mf\u001B[39m\u001B[38;5;124m\"\u001B[39m\u001B[38;5;124mProcess \u001B[39m\u001B[38;5;124m'\u001B[39m\u001B[38;5;132;01m{\u001B[39;00mproc_name\u001B[38;5;132;01m}\u001B[39;00m\u001B[38;5;124m'\u001B[39m\u001B[38;5;124m in model \u001B[39m\u001B[38;5;124m'\u001B[39m\u001B[38;5;132;01m{\u001B[39;00mmodel[\u001B[38;5;124m'\u001B[39m\u001B[38;5;124mid\u001B[39m\u001B[38;5;124m'\u001B[39m]\u001B[38;5;132;01m}\u001B[39;00m\u001B[38;5;124m'\u001B[39m\u001B[38;5;124m is invalid.\u001B[39m\u001B[38;5;124m\"\u001B[39m)\n\u001B[1;32m     59\u001B[0m \u001B[38;5;66;03m# TODO: Validate containment rules\u001B[39;00m\n\u001B[0;32m---> 60\u001B[0m \u001B[43mvalidate_containment\u001B[49m\u001B[43m(\u001B[49m\u001B[43mmodel\u001B[49m\u001B[43m)\u001B[49m\n",
      "File \u001B[0;32m~/code/multicell-schema/multicell_utils/validate.py:16\u001B[0m, in \u001B[0;36mvalidate_containment\u001B[0;34m(model)\u001B[0m\n\u001B[1;32m     13\u001B[0m \u001B[38;5;28;01mfor\u001B[39;00m parent, children \u001B[38;5;129;01min\u001B[39;00m structure\u001B[38;5;241m.\u001B[39mitems():\n\u001B[1;32m     14\u001B[0m     parent_type \u001B[38;5;241m=\u001B[39m model[\u001B[38;5;124m'\u001B[39m\u001B[38;5;124mobjects\u001B[39m\u001B[38;5;124m'\u001B[39m][parent][\u001B[38;5;124m'\u001B[39m\u001B[38;5;124mtype\u001B[39m\u001B[38;5;124m'\u001B[39m]\n\u001B[0;32m---> 16\u001B[0m     \u001B[38;5;28;01massert\u001B[39;00m parent_type \u001B[38;5;129;01min\u001B[39;00m schema_registry\u001B[38;5;241m.\u001B[39mobject_inheritance, \u001B[38;5;124mf\u001B[39m\u001B[38;5;124m\"\u001B[39m\u001B[38;5;124mObject \u001B[39m\u001B[38;5;124m'\u001B[39m\u001B[38;5;132;01m{\u001B[39;00mparent\u001B[38;5;132;01m}\u001B[39;00m\u001B[38;5;124m'\u001B[39m\u001B[38;5;124m does not have inheritance information\u001B[39m\u001B[38;5;124m\"\u001B[39m\n\u001B[1;32m     18\u001B[0m     \u001B[38;5;28;01mif\u001B[39;00m parent_type \u001B[38;5;129;01mnot\u001B[39;00m \u001B[38;5;129;01min\u001B[39;00m schema_registry\u001B[38;5;241m.\u001B[39mallowed_containments:\n\u001B[1;32m     19\u001B[0m         \u001B[38;5;28mprint\u001B[39m(\u001B[38;5;124mf\u001B[39m\u001B[38;5;124m\"\u001B[39m\u001B[38;5;124mInvalid containment: \u001B[39m\u001B[38;5;132;01m{\u001B[39;00mparent_type\u001B[38;5;132;01m}\u001B[39;00m\u001B[38;5;124m not found in allowed containments\u001B[39m\u001B[38;5;124m\"\u001B[39m)\n",
      "\u001B[0;31mAssertionError\u001B[0m: Object 'universe' does not have inheritance information"
     ]
    }
   ],
   "execution_count": 3
  },
  {
   "metadata": {
    "ExecuteTime": {
     "end_time": "2025-01-25T22:32:26.405631Z",
     "start_time": "2025-01-25T20:50:11.427288Z"
    }
   },
   "cell_type": "code",
   "source": "demo_model.graph()",
   "id": "e0d4e3c4a9b2d971",
   "outputs": [
    {
     "data": {
      "image/svg+xml": "<?xml version=\"1.0\" encoding=\"UTF-8\" standalone=\"no\"?>\n<!DOCTYPE svg PUBLIC \"-//W3C//DTD SVG 1.1//EN\"\n \"http://www.w3.org/Graphics/SVG/1.1/DTD/svg11.dtd\">\n<!-- Generated by graphviz version 9.0.0 (0)\n -->\n<!-- Pages: 1 -->\n<svg width=\"335pt\" height=\"533pt\"\n viewBox=\"0.00 0.00 335.33 533.38\" xmlns=\"http://www.w3.org/2000/svg\" xmlns:xlink=\"http://www.w3.org/1999/xlink\">\n<g id=\"graph0\" class=\"graph\" transform=\"scale(1 1) rotate(0) translate(4 529.38)\">\n<polygon fill=\"white\" stroke=\"none\" points=\"-4,4 -4,-529.38 331.33,-529.38 331.33,4 -4,4\"/>\n<!-- universe -->\n<g id=\"node1\" class=\"node\">\n<title>universe</title>\n<ellipse fill=\"none\" stroke=\"black\" cx=\"134.16\" cy=\"-450.93\" rx=\"74.45\" ry=\"74.45\"/>\n<text text-anchor=\"middle\" x=\"134.16\" y=\"-446.73\" font-family=\"Times,serif\" font-size=\"14.00\">universe:Universe</text>\n</g>\n<!-- cell field -->\n<g id=\"node2\" class=\"node\">\n<title>cell field</title>\n<ellipse fill=\"none\" stroke=\"black\" cx=\"134.16\" cy=\"-264.31\" rx=\"76.18\" ry=\"76.18\"/>\n<text text-anchor=\"middle\" x=\"134.16\" y=\"-260.11\" font-family=\"Times,serif\" font-size=\"14.00\">cell field:CellField</text>\n</g>\n<!-- universe&#45;&gt;cell field -->\n<g id=\"edge3\" class=\"edge\">\n<title>universe&#45;&gt;cell field</title>\n<path fill=\"none\" stroke=\"black\" stroke-width=\"2\" d=\"M134.16,-376.17C134.16,-364.52 134.16,-352.46 134.16,-340.77\"/>\n</g>\n<!-- cell -->\n<g id=\"node3\" class=\"node\">\n<title>cell</title>\n<ellipse fill=\"none\" stroke=\"black\" cx=\"51.16\" cy=\"-112.07\" rx=\"40.07\" ry=\"40.07\"/>\n<text text-anchor=\"middle\" x=\"51.16\" y=\"-107.87\" font-family=\"Times,serif\" font-size=\"14.00\">cell:Cell</text>\n</g>\n<!-- cell field&#45;&gt;cell -->\n<g id=\"edge4\" class=\"edge\">\n<title>cell field&#45;&gt;cell</title>\n<path fill=\"none\" stroke=\"black\" stroke-width=\"2\" d=\"M97.52,-196.97C88.14,-179.99 78.42,-162.41 70.32,-147.75\"/>\n</g>\n<!-- volume exclusion -->\n<g id=\"node5\" class=\"node\">\n<title>volume exclusion</title>\n<polygon fill=\"none\" stroke=\"black\" points=\"327.33,-130.07 109,-130.07 109,-94.07 327.33,-94.07 327.33,-130.07\"/>\n<text text-anchor=\"middle\" x=\"218.16\" y=\"-107.87\" font-family=\"Times,serif\" font-size=\"14.00\">volume exclusion:VolumeExclusion</text>\n</g>\n<!-- cell field&#45;&gt;volume exclusion -->\n<g id=\"edge2\" class=\"edge\">\n<title>cell field&#45;&gt;volume exclusion</title>\n<path fill=\"none\" stroke=\"black\" stroke-dasharray=\"5,2\" d=\"M176.51,-187.56C188.52,-166.09 200.49,-144.68 208.49,-130.36\"/>\n<polygon fill=\"black\" stroke=\"black\" points=\"173.57,-185.65 171.74,-196.09 179.68,-189.07 173.57,-185.65\"/>\n</g>\n<!-- growth -->\n<g id=\"node4\" class=\"node\">\n<title>growth</title>\n<polygon fill=\"none\" stroke=\"black\" points=\"102.32,-36 0,-36 0,0 102.32,0 102.32,-36\"/>\n<text text-anchor=\"middle\" x=\"51.16\" y=\"-13.8\" font-family=\"Times,serif\" font-size=\"14.00\">growth:Growth</text>\n</g>\n<!-- cell&#45;&gt;growth -->\n<g id=\"edge1\" class=\"edge\">\n<title>cell&#45;&gt;growth</title>\n<path fill=\"none\" stroke=\"black\" stroke-dasharray=\"5,2\" d=\"M51.16,-60.42C51.16,-51.81 51.16,-43.42 51.16,-36.47\"/>\n<polygon fill=\"black\" stroke=\"black\" points=\"47.66,-60.24 51.16,-70.24 54.66,-60.24 47.66,-60.24\"/>\n</g>\n</g>\n</svg>\n",
      "text/plain": [
       "<graphviz.graphs.Digraph at 0x10722cd10>"
      ]
     },
     "execution_count": 15,
     "metadata": {},
     "output_type": "execute_result"
    }
   ],
   "execution_count": 15
  },
  {
   "metadata": {
    "ExecuteTime": {
     "end_time": "2025-01-25T22:32:26.405806Z",
     "start_time": "2025-01-25T20:49:53.880920Z"
    }
   },
   "cell_type": "code",
   "source": "",
   "id": "fa52f4d5c4fa0ccd",
   "outputs": [],
   "execution_count": null
  }
 ],
 "metadata": {
  "kernelspec": {
   "display_name": "Python 3",
   "language": "python",
   "name": "python3"
  },
  "language_info": {
   "codemirror_mode": {
    "name": "ipython",
    "version": 2
   },
   "file_extension": ".py",
   "mimetype": "text/x-python",
   "name": "python",
   "nbconvert_exporter": "python",
   "pygments_lexer": "ipython2",
   "version": "2.7.6"
  }
 },
 "nbformat": 4,
 "nbformat_minor": 5
}
