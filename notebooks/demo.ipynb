{
 "cells": [
  {
   "cell_type": "code",
   "id": "initial_id",
   "metadata": {
    "collapsed": true,
    "ExecuteTime": {
     "end_time": "2025-01-25T20:24:59.844939Z",
     "start_time": "2025-01-25T20:24:59.785040Z"
    }
   },
   "source": "from multicell_utils.builder import ModelBuilder, ProcessCreator, ObjectCreator",
   "outputs": [
    {
     "name": "stdout",
     "output_type": "stream",
     "text": [
      "Failed to register object schema 'example_object2 with metaschema {'type': 'object', 'properties': {'type': {'type': 'string'}, 'boundary_conditions': {'type': 'object'}, 'contained_object_types': {'type': 'array'}, 'attributes': {'type': 'object'}, 'inherits_from': {'type': 'array'}}, 'required': ['type', 'attributes']}': 'schema/object/example_object.json' is not of type 'array'\n",
      "Failed to register process schema 'example_process': 'update' is a required property\n"
     ]
    }
   ],
   "execution_count": 1
  },
  {
   "metadata": {
    "ExecuteTime": {
     "end_time": "2025-01-25T20:24:59.905792Z",
     "start_time": "2025-01-25T20:24:59.903731Z"
    }
   },
   "cell_type": "code",
   "source": "builder = ModelBuilder(model_name='demo')",
   "id": "ccebdb43e2809929",
   "outputs": [],
   "execution_count": 2
  },
  {
   "metadata": {
    "ExecuteTime": {
     "end_time": "2025-01-25T20:24:59.954543Z",
     "start_time": "2025-01-25T20:24:59.951711Z"
    }
   },
   "cell_type": "code",
   "source": "builder",
   "id": "b8cc70641671572d",
   "outputs": [
    {
     "data": {
      "text/plain": [
       "ModelBuilder({ 'id': 'model_000003',\n",
       "  'name': 'demo',\n",
       "  'objects': {},\n",
       "  'processes': {},\n",
       "  'structure': {}})"
      ]
     },
     "execution_count": 3,
     "metadata": {},
     "output_type": "execute_result"
    }
   ],
   "execution_count": 3
  },
  {
   "metadata": {
    "ExecuteTime": {
     "end_time": "2025-01-25T20:25:00.014790Z",
     "start_time": "2025-01-25T20:25:00.013350Z"
    }
   },
   "cell_type": "code",
   "source": "",
   "id": "8858d3385ae9861a",
   "outputs": [],
   "execution_count": null
  }
 ],
 "metadata": {
  "kernelspec": {
   "display_name": "Python 3",
   "language": "python",
   "name": "python3"
  },
  "language_info": {
   "codemirror_mode": {
    "name": "ipython",
    "version": 2
   },
   "file_extension": ".py",
   "mimetype": "text/x-python",
   "name": "python",
   "nbconvert_exporter": "python",
   "pygments_lexer": "ipython2",
   "version": "2.7.6"
  }
 },
 "nbformat": 4,
 "nbformat_minor": 5
}
