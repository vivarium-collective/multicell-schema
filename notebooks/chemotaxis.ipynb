{
 "cells": [
  {
   "cell_type": "code",
   "id": "initial_id",
   "metadata": {
    "ExecuteTime": {
     "end_time": "2025-03-13T19:13:45.927649Z",
     "start_time": "2025-03-13T19:13:45.905669Z"
    }
   },
   "source": [
    "#get to right filepath\n",
    "import os\n",
    "os.chdir('..')\n",
    "#import functions\n",
    "from multicell_utils.builder import ModelBuilder, ProcessCreator, ObjectCreator\n",
    "\n",
    "#register a cell object, generic field to set total environmental space\n",
    "spatial_domain = ObjectCreator(\n",
    "    type='SpatialDomain',\n",
    "    inherits_from='',\n",
    "    contained_objects=['ObjectSpace','ChemicalField']\n",
    "    #information: total simulation space encompassing any contained fields\n",
    ")\n",
    "#register an object, chemical field\n",
    "chemical_field = ObjectCreator(\n",
    "    type='ChemicalField',\n",
    "    inherits_from='Field',  # non-volume-excluding and continuous\n",
    "    contained_objects=['Chemical']\n",
    "    #information: solver information, mesh information\n",
    ")\n",
    "#register an object, chemical field\n",
    "object_space = ObjectCreator(\n",
    "    type='ObjectSpace',\n",
    "    # inherits_from='',\n",
    "    contained_objects=['Material']\n",
    "    #information: solver information, mesh information\n",
    ")\n",
    "#register an object, cell type\n",
    "cell_pop = ObjectCreator(\n",
    "    type='CellPopulation',\n",
    "    inherits_from='Cell',\n",
    "    contained_objects=['Cell']\n",
    "    #information: participating processes - process specific properties (though this could be contained within the processes themselves)\n",
    ")\n",
    "\n",
    "#register a cell object, chemical species\n",
    "Chem = ObjectCreator(\n",
    "    type='Chemical',\n",
    "    inherits_from='ChemicalField',\n",
    "    contained_objects=['']\n",
    "    #information: participating processes, diffusion rate, reaction information (process?), boundary conditions\n",
    ")\n",
    "# register a process, contact/adhesion force\n",
    "new_process = ProcessCreator(\n",
    "    type='ContactForce',\n",
    "    participating_objects=['CellField', 'CellPopulation'],\n",
    "    #information: parameter values per cell type?, process function?\n",
    ")\n",
    "# register a process, chemotaxis\n",
    "new_process1 = ProcessCreator(\n",
    "    type='Chemotaxis',\n",
    "    participating_objects=['Chemical', 'CellPopulation'],\n",
    "    #information: parameter values per cell type?, process function?\n",
    ")\n",
    "cell_pop.validate()\n",
    "cell_pop.register(overwrite=True)\n",
    "cell_pop.save(filename='cell_population.json')\n",
    "Chem.validate()\n",
    "Chem.register(overwrite=True)\n",
    "Chem.save(filename='chemicals.json')\n",
    "spatial_domain.validate()\n",
    "spatial_domain.register(overwrite=True)\n",
    "spatial_domain.save(filename='spatial_domain.json')\n",
    "chemical_field.validate()\n",
    "chemical_field.register(overwrite=True)\n",
    "chemical_field.save(filename='chemical_field.json')\n",
    "object_space.validate()\n",
    "object_space.register(overwrite=True)\n",
    "object_space.save(filename='object_space.json')\n",
    "new_process.validate()\n",
    "new_process.register(overwrite=True)\n",
    "new_process.save(filename='collision_process.json')\n",
    "new_process1.validate()\n",
    "new_process1.register(overwrite=True)\n",
    "new_process1.save(filename='chemotaxis_process.json')"
   ],
   "outputs": [
    {
     "name": "stdout",
     "output_type": "stream",
     "text": [
      "Schema saved to schema/object/cell_population.json\n",
      "Schema saved to schema/object/chemicals.json\n",
      "Schema saved to schema/object/field_base.json\n",
      "Schema saved to schema/object/chemical_field.json\n",
      "Schema saved to schema/object/object_space.json\n",
      "Schema saved to schema/process/collision_process.json\n",
      "Schema saved to schema/process/chemotaxis_process.json\n"
     ]
    }
   ],
   "execution_count": 15
  },
  {
   "cell_type": "code",
   "id": "265d587e2ef1266f",
   "metadata": {
    "ExecuteTime": {
     "end_time": "2025-03-13T19:13:45.938038Z",
     "start_time": "2025-03-13T19:13:45.934691Z"
    }
   },
   "source": [
    "cell_sorting = ModelBuilder(model_name='cell_sorting')\n",
    "#cell_sorting.add_object(name='CPM_cell', object_type='CellPopulation')\n",
    "#cell_sorting.add_object(name='CBM_cell', object_type='CellPopulation')\n",
    "#cell_sorting.add_object(name='vertex_cell', object_type='CellPopulation')\n",
    "cell_sorting.add_object(name='light', object_type='CellPopulation')\n",
    "cell_sorting.add_object(name='dark', object_type='CellPopulation')\n",
    "cell_sorting.add_object(name='environment', object_type='Field', contained_objects=[\"Objenvironment\",\"Diffusive Field\"])\n",
    "cell_sorting.add_object(name='Objenvironment', object_type='CellField', contained_objects=[\"dark\", \"light\"])\n",
    "cell_sorting.add_object(name='Diffusive Field', object_type='ChemicalField', contained_objects=[\"quorum\"])\n",
    "cell_sorting.add_object(name='quorum', object_type='Chemical')\n",
    "#cell_sorting.add_object(name='external_material', object_type='Material')\n",
    "cell_sorting.add_process(name='repulsion', process_type='VolumeExclusion',\n",
    "                    participating_objects=[\"dark\", \"light\"])\n",
    "cell_sorting.add_process(name='adhesion', process_type='ContactForce', participating_objects=[\"dark\", \"light\"])\n",
    "cell_sorting.add_process(name='Chemotaxis', process_type='Chemotaxis', participating_objects=[\"dark\", \"light\", \"quorum\"])\n",
    "cell_sorting.add_process(name='forcing function', process_type='MotileForce', participating_objects=[\"dark\", \"light\"])\n",
    "#Contact force function: f=k*(r1-r2) - put actual function in https://github.com/OpenVT/playground/blob/main/PhysiCell/physicell_mech_potential.ipynb\n",
    "#dark,dark: k=1\n",
    "#dark,light: k=0\n",
    "#light,dark: k=0\n",
    "#light,light: k=1"
   ],
   "outputs": [],
   "execution_count": 16
  },
  {
   "cell_type": "code",
   "id": "ca5e74999211e4a7",
   "metadata": {
    "ExecuteTime": {
     "end_time": "2025-03-13T19:13:45.948276Z",
     "start_time": "2025-03-13T19:13:45.942103Z"
    }
   },
   "source": [
    "cell_sorting.validate()"
   ],
   "outputs": [],
   "execution_count": 17
  },
  {
   "cell_type": "code",
   "id": "79d8634bf2e3e821",
   "metadata": {
    "ExecuteTime": {
     "end_time": "2025-03-13T19:13:45.959194Z",
     "start_time": "2025-03-13T19:13:45.952777Z"
    }
   },
   "source": [
    "cell_sorting.save(filename='cell_sorting.json')"
   ],
   "outputs": [
    {
     "name": "stdout",
     "output_type": "stream",
     "text": [
      "Model saved to models/cell_sorting.json\n"
     ]
    }
   ],
   "execution_count": 18
  },
  {
   "cell_type": "code",
   "id": "aaab59af82139ea",
   "metadata": {
    "ExecuteTime": {
     "end_time": "2025-03-13T19:13:45.983585Z",
     "start_time": "2025-03-13T19:13:45.963509Z"
    }
   },
   "source": [
    "cell_sorting.graph()"
   ],
   "outputs": [
    {
     "data": {
      "image/svg+xml": "<?xml version=\"1.0\" encoding=\"UTF-8\" standalone=\"no\"?>\n<!DOCTYPE svg PUBLIC \"-//W3C//DTD SVG 1.1//EN\"\n \"http://www.w3.org/Graphics/SVG/1.1/DTD/svg11.dtd\">\n<!-- Generated by graphviz version 9.0.0 (0)\n -->\n<!-- Pages: 1 -->\n<svg width=\"753pt\" height=\"703pt\"\n viewBox=\"0.00 0.00 752.91 703.09\" xmlns=\"http://www.w3.org/2000/svg\" xmlns:xlink=\"http://www.w3.org/1999/xlink\">\n<g id=\"graph0\" class=\"graph\" transform=\"scale(1 1) rotate(0) translate(4 699.09)\">\n<polygon fill=\"white\" stroke=\"none\" points=\"-4,4 -4,-699.09 748.91,-699.09 748.91,4 -4,4\"/>\n<!-- light -->\n<g id=\"node1\" class=\"node\">\n<title>light</title>\n<ellipse fill=\"none\" stroke=\"black\" cx=\"260.64\" cy=\"-153.84\" rx=\"81.84\" ry=\"81.84\"/>\n<text text-anchor=\"middle\" x=\"260.64\" y=\"-149.64\" font-family=\"Times,serif\" font-size=\"14.00\">light:CellPopulation</text>\n</g>\n<!-- repulsion -->\n<g id=\"node7\" class=\"node\">\n<title>repulsion</title>\n<polygon fill=\"none\" stroke=\"black\" points=\"171.29,-36 0,-36 0,0 171.29,0 171.29,-36\"/>\n<text text-anchor=\"middle\" x=\"85.64\" y=\"-13.8\" font-family=\"Times,serif\" font-size=\"14.00\">repulsion:VolumeExclusion</text>\n</g>\n<!-- light&#45;&gt;repulsion -->\n<g id=\"edge2\" class=\"edge\">\n<title>light&#45;&gt;repulsion</title>\n<path fill=\"none\" stroke=\"black\" stroke-dasharray=\"5,2\" d=\"M186.86,-96.41C158.53,-74.74 128.23,-51.57 108.24,-36.29\"/>\n<polygon fill=\"black\" stroke=\"black\" points=\"184.7,-99.17 194.77,-102.46 188.96,-93.61 184.7,-99.17\"/>\n</g>\n<!-- adhesion -->\n<g id=\"node8\" class=\"node\">\n<title>adhesion</title>\n<polygon fill=\"none\" stroke=\"black\" points=\"334.18,-36 189.1,-36 189.1,0 334.18,0 334.18,-36\"/>\n<text text-anchor=\"middle\" x=\"261.64\" y=\"-13.8\" font-family=\"Times,serif\" font-size=\"14.00\">adhesion:ContactForce</text>\n</g>\n<!-- light&#45;&gt;adhesion -->\n<g id=\"edge4\" class=\"edge\">\n<title>light&#45;&gt;adhesion</title>\n<path fill=\"none\" stroke=\"black\" stroke-dasharray=\"5,2\" d=\"M261.33,-60.19C261.4,-51.16 261.46,-42.86 261.51,-36.12\"/>\n<polygon fill=\"black\" stroke=\"black\" points=\"257.84,-59.97 261.26,-70 264.84,-60.03 257.84,-59.97\"/>\n</g>\n<!-- Chemotaxis -->\n<g id=\"node9\" class=\"node\">\n<title>Chemotaxis</title>\n<polygon fill=\"none\" stroke=\"black\" points=\"703.47,-36 549.81,-36 549.81,0 703.47,0 703.47,-36\"/>\n<text text-anchor=\"middle\" x=\"626.64\" y=\"-13.8\" font-family=\"Times,serif\" font-size=\"14.00\">Chemotaxis:Chemotaxis</text>\n</g>\n<!-- light&#45;&gt;Chemotaxis -->\n<g id=\"edge6\" class=\"edge\">\n<title>light&#45;&gt;Chemotaxis</title>\n<path fill=\"none\" stroke=\"black\" stroke-dasharray=\"5,2\" d=\"M326.4,-87.47C334.48,-81.6 342.96,-76.27 351.64,-72 428.37,-34.25 456.7,-52.29 540.64,-36 543.63,-35.42 546.68,-34.83 549.75,-34.23\"/>\n<polygon fill=\"black\" stroke=\"black\" points=\"324.48,-84.53 318.66,-93.38 328.73,-90.09 324.48,-84.53\"/>\n</g>\n<!-- forcing function -->\n<g id=\"node10\" class=\"node\">\n<title>forcing function</title>\n<polygon fill=\"none\" stroke=\"black\" points=\"531.48,-36 351.8,-36 351.8,0 531.48,0 531.48,-36\"/>\n<text text-anchor=\"middle\" x=\"441.64\" y=\"-13.8\" font-family=\"Times,serif\" font-size=\"14.00\">forcing function:MotileForce</text>\n</g>\n<!-- light&#45;&gt;forcing function -->\n<g id=\"edge9\" class=\"edge\">\n<title>light&#45;&gt;forcing function</title>\n<path fill=\"none\" stroke=\"black\" stroke-dasharray=\"5,2\" d=\"M328.75,-89.84C336.31,-83.6 344.03,-77.54 351.64,-72 369.67,-58.87 391.15,-46.13 408.61,-36.42\"/>\n<polygon fill=\"black\" stroke=\"black\" points=\"326.53,-87.13 321.13,-96.24 331.03,-92.49 326.53,-87.13\"/>\n</g>\n<!-- dark -->\n<g id=\"node2\" class=\"node\">\n<title>dark</title>\n<ellipse fill=\"none\" stroke=\"black\" cx=\"441.64\" cy=\"-153.84\" rx=\"81.34\" ry=\"81.34\"/>\n<text text-anchor=\"middle\" x=\"441.64\" y=\"-149.64\" font-family=\"Times,serif\" font-size=\"14.00\">dark:CellPopulation</text>\n</g>\n<!-- dark&#45;&gt;repulsion -->\n<g id=\"edge1\" class=\"edge\">\n<title>dark&#45;&gt;repulsion</title>\n<path fill=\"none\" stroke=\"black\" stroke-dasharray=\"5,2\" d=\"M376.38,-87.35C368.46,-81.54 360.15,-76.26 351.64,-72 343.42,-67.88 246.14,-49.05 171.58,-34.99\"/>\n<polygon fill=\"black\" stroke=\"black\" points=\"374.23,-90.11 384.29,-93.45 378.51,-84.57 374.23,-90.11\"/>\n</g>\n<!-- dark&#45;&gt;adhesion -->\n<g id=\"edge3\" class=\"edge\">\n<title>dark&#45;&gt;adhesion</title>\n<path fill=\"none\" stroke=\"black\" stroke-dasharray=\"5,2\" d=\"M374.33,-89.81C366.84,-83.58 359.19,-77.53 351.64,-72 333.65,-58.82 312.17,-46.07 294.71,-36.38\"/>\n<polygon fill=\"black\" stroke=\"black\" points=\"371.98,-92.41 381.87,-96.2 376.5,-87.07 371.98,-92.41\"/>\n</g>\n<!-- dark&#45;&gt;Chemotaxis -->\n<g id=\"edge5\" class=\"edge\">\n<title>dark&#45;&gt;Chemotaxis</title>\n<path fill=\"none\" stroke=\"black\" stroke-dasharray=\"5,2\" d=\"M513.09,-94.73C523.22,-86.92 533.61,-79.15 543.64,-72 561.18,-59.5 581.57,-46.46 597.74,-36.45\"/>\n<polygon fill=\"black\" stroke=\"black\" points=\"511.21,-91.75 505.46,-100.65 515.5,-97.28 511.21,-91.75\"/>\n</g>\n<!-- dark&#45;&gt;forcing function -->\n<g id=\"edge8\" class=\"edge\">\n<title>dark&#45;&gt;forcing function</title>\n<path fill=\"none\" stroke=\"black\" stroke-dasharray=\"5,2\" d=\"M441.64,-60.82C441.64,-51.67 441.64,-43.26 441.64,-36.41\"/>\n<polygon fill=\"black\" stroke=\"black\" points=\"438.14,-60.77 441.64,-70.77 445.14,-60.77 438.14,-60.77\"/>\n</g>\n<!-- environment -->\n<g id=\"node3\" class=\"node\">\n<title>environment</title>\n<ellipse fill=\"none\" stroke=\"black\" cx=\"506.64\" cy=\"-619.65\" rx=\"75.44\" ry=\"75.44\"/>\n<text text-anchor=\"middle\" x=\"506.64\" y=\"-615.45\" font-family=\"Times,serif\" font-size=\"14.00\">environment:Field</text>\n</g>\n<!-- Objenvironment -->\n<g id=\"node4\" class=\"node\">\n<title>Objenvironment</title>\n<ellipse fill=\"none\" stroke=\"black\" cx=\"386.64\" cy=\"-389.94\" rx=\"103.44\" ry=\"103.44\"/>\n<text text-anchor=\"middle\" x=\"386.64\" y=\"-385.74\" font-family=\"Times,serif\" font-size=\"14.00\">Objenvironment:CellField</text>\n</g>\n<!-- environment&#45;&gt;Objenvironment -->\n<g id=\"edge10\" class=\"edge\">\n<title>environment&#45;&gt;Objenvironment</title>\n<path fill=\"none\" stroke=\"black\" stroke-width=\"2\" d=\"M471.77,-552.48C460.15,-530.42 446.98,-505.45 434.55,-481.85\"/>\n</g>\n<!-- Diffusive Field -->\n<g id=\"node5\" class=\"node\">\n<title>Diffusive Field</title>\n<ellipse fill=\"none\" stroke=\"black\" cx=\"626.64\" cy=\"-389.94\" rx=\"118.27\" ry=\"118.27\"/>\n<text text-anchor=\"middle\" x=\"626.64\" y=\"-385.74\" font-family=\"Times,serif\" font-size=\"14.00\">Diffusive Field:ChemicalField</text>\n</g>\n<!-- environment&#45;&gt;Diffusive Field -->\n<g id=\"edge11\" class=\"edge\">\n<title>environment&#45;&gt;Diffusive Field</title>\n<path fill=\"none\" stroke=\"black\" stroke-width=\"2\" d=\"M541.51,-552.48C550.99,-534.49 561.5,-514.57 571.79,-495.02\"/>\n</g>\n<!-- Objenvironment&#45;&gt;light -->\n<g id=\"edge13\" class=\"edge\">\n<title>Objenvironment&#45;&gt;light</title>\n<path fill=\"none\" stroke=\"black\" stroke-width=\"2\" d=\"M337.93,-298.43C325.05,-274.5 311.33,-249.01 299.07,-226.24\"/>\n</g>\n<!-- Objenvironment&#45;&gt;dark -->\n<g id=\"edge12\" class=\"edge\">\n<title>Objenvironment&#45;&gt;dark</title>\n<path fill=\"none\" stroke=\"black\" stroke-width=\"2\" d=\"M410.13,-288.98C414.51,-270.34 419.03,-251.11 423.23,-233.23\"/>\n</g>\n<!-- quorum -->\n<g id=\"node6\" class=\"node\">\n<title>quorum</title>\n<ellipse fill=\"none\" stroke=\"black\" cx=\"626.64\" cy=\"-153.84\" rx=\"73.96\" ry=\"73.96\"/>\n<text text-anchor=\"middle\" x=\"626.64\" y=\"-149.64\" font-family=\"Times,serif\" font-size=\"14.00\">quorum:Chemical</text>\n</g>\n<!-- Diffusive Field&#45;&gt;quorum -->\n<g id=\"edge14\" class=\"edge\">\n<title>Diffusive Field&#45;&gt;quorum</title>\n<path fill=\"none\" stroke=\"black\" stroke-width=\"2\" d=\"M626.64,-271.21C626.64,-256.52 626.64,-241.84 626.64,-228.11\"/>\n</g>\n<!-- quorum&#45;&gt;Chemotaxis -->\n<g id=\"edge7\" class=\"edge\">\n<title>quorum&#45;&gt;Chemotaxis</title>\n<path fill=\"none\" stroke=\"black\" stroke-dasharray=\"5,2\" d=\"M626.64,-68.37C626.64,-56.28 626.64,-45.02 626.64,-36.31\"/>\n<polygon fill=\"black\" stroke=\"black\" points=\"623.14,-68.14 626.64,-78.14 630.14,-68.14 623.14,-68.14\"/>\n</g>\n</g>\n</svg>\n",
      "text/plain": [
       "<graphviz.graphs.Digraph at 0x1062ae7d0>"
      ]
     },
     "execution_count": 19,
     "metadata": {},
     "output_type": "execute_result"
    }
   ],
   "execution_count": 19
  },
  {
   "cell_type": "code",
   "id": "5800d02a34fb74f",
   "metadata": {
    "ExecuteTime": {
     "end_time": "2025-03-13T19:13:45.993230Z",
     "start_time": "2025-03-13T19:13:45.990793Z"
    }
   },
   "source": [
    "cell_sorting"
   ],
   "outputs": [
    {
     "data": {
      "text/plain": [
       "ModelBuilder({ 'id': 'model_000035',\n",
       "  'name': 'cell_sorting',\n",
       "  'objects': { 'Diffusive Field': { 'attributes': {},\n",
       "                                    'boundary_conditions': {},\n",
       "                                    'contained_objects': ['quorum'],\n",
       "                                    'type': 'ChemicalField'},\n",
       "               'Objenvironment': { 'attributes': {},\n",
       "                                   'boundary_conditions': {},\n",
       "                                   'contained_objects': ['dark', 'light'],\n",
       "                                   'type': 'CellField'},\n",
       "               'dark': { 'attributes': {},\n",
       "                         'boundary_conditions': {},\n",
       "                         'contained_objects': [],\n",
       "                         'type': 'CellPopulation'},\n",
       "               'environment': { 'attributes': {},\n",
       "                                'boundary_conditions': {},\n",
       "                                'contained_objects': [ 'Objenvironment',\n",
       "                                                       'Diffusive Field'],\n",
       "                                'type': 'Field'},\n",
       "               'light': { 'attributes': {},\n",
       "                          'boundary_conditions': {},\n",
       "                          'contained_objects': [],\n",
       "                          'type': 'CellPopulation'},\n",
       "               'quorum': { 'attributes': {},\n",
       "                           'boundary_conditions': {},\n",
       "                           'contained_objects': [],\n",
       "                           'type': 'Chemical'}},\n",
       "  'processes': { 'Chemotaxis': { 'attributes': {},\n",
       "                                 'participating_objects': [ 'dark',\n",
       "                                                            'light',\n",
       "                                                            'quorum'],\n",
       "                                 'type': 'Chemotaxis'},\n",
       "                 'adhesion': { 'attributes': {},\n",
       "                               'participating_objects': ['dark', 'light'],\n",
       "                               'type': 'ContactForce'},\n",
       "                 'forcing function': { 'attributes': {},\n",
       "                                       'participating_objects': [ 'dark',\n",
       "                                                                  'light'],\n",
       "                                       'type': 'MotileForce'},\n",
       "                 'repulsion': { 'attributes': {},\n",
       "                                'participating_objects': ['dark', 'light'],\n",
       "                                'type': 'VolumeExclusion'}}})"
      ]
     },
     "execution_count": 20,
     "metadata": {},
     "output_type": "execute_result"
    }
   ],
   "execution_count": 20
  },
  {
   "cell_type": "code",
   "id": "413f55884e9056aa",
   "metadata": {
    "ExecuteTime": {
     "end_time": "2025-03-13T19:13:46.007517Z",
     "start_time": "2025-03-13T19:13:46.006183Z"
    }
   },
   "source": [],
   "outputs": [],
   "execution_count": null
  }
 ],
 "metadata": {
  "kernelspec": {
   "display_name": "Python 3 (ipykernel)",
   "language": "python",
   "name": "python3"
  },
  "language_info": {
   "codemirror_mode": {
    "name": "ipython",
    "version": 3
   },
   "file_extension": ".py",
   "mimetype": "text/x-python",
   "name": "python",
   "nbconvert_exporter": "python",
   "pygments_lexer": "ipython3",
   "version": "3.13.2"
  }
 },
 "nbformat": 4,
 "nbformat_minor": 5
}
