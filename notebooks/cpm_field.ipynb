{
 "cells": [
  {
   "cell_type": "code",
   "id": "initial_id",
   "metadata": {
    "collapsed": true,
    "ExecuteTime": {
     "end_time": "2024-12-01T21:38:48.257247Z",
     "start_time": "2024-12-01T21:38:48.191380Z"
    }
   },
   "source": [
    "# Import the ObjectCreator class\n",
    "from library.builder import ObjectCreator\n",
    "\n",
    "# Create an Object\n",
    "cpm_field = ObjectCreator(\n",
    "    name=\"CPMCellsField\",\n",
    "    attributes={\n",
    "        \"bounds\": {\"x\": \"float\", \n",
    "                   \"y\": \"float\", \n",
    "                   \"z\": \"float\"},\n",
    "        \"grid_size\": {\"x\": \"float\", \n",
    "                      \"y\": \"float\", \n",
    "                      \"z\": \"float\"},\n",
    "        \"cell_species\": {\"type\": \"list[string]\", \n",
    "                         \"default\": \"[x]\", \n",
    "                         \"description\": \"List of the cell species.\"},\n",
    "        \"cells\": {\"type\": \"list[Cell]\", \n",
    "                  \"default\": \"[]\", \n",
    "                  \"description\": \"List of cells.\"},\n",
    "        \"temperature\": {\"type\": \"float\", \n",
    "                        \"default\": 37.0,\n",
    "                        \"description\": \"Temperature of the Cellular Potts model environment.\"},\n",
    "        \"adhesion_matrix\": {\"type\": \"list[list[float]]\",\n",
    "                            \"description\": \"Matrix defining adhesion energies between different cell types.\"},\n",
    "        \"motility\": {\"type\": \"float\", \n",
    "                     \"default\": 0.1, \n",
    "                     \"description\": \"Motility coefficient for the cells.\"}\n",
    "    },\n",
    "    boundary_conditions={},\n",
    "    contained_objects={\"Cell\": {\"type\": \"string\"}}\n",
    ")\n",
    "\n",
    "# Print the schema\n",
    "print(cpm_field.schema)\n",
    "\n",
    "cpm_field.save(\"cpm_field.json\", overwrite=True)"
   ],
   "outputs": [
    {
     "name": "stdout",
     "output_type": "stream",
     "text": [
      "{'type': 'CPMCellsField', 'properties': {}, 'required': [], 'attributes': {'bounds': {'x': 'float', 'y': 'float', 'z': 'float'}, 'grid_size': {'x': 'float', 'y': 'float', 'z': 'float'}, 'cell_species': {'type': 'list[string]', 'default': '[x]', 'description': 'List of the cell species.'}, 'cells': {'type': 'list[Cell]', 'default': '[]', 'description': 'List of cells.'}, 'temperature': {'type': 'float', 'default': 37.0, 'description': 'Temperature of the Cellular Potts model environment.'}, 'adhesion_matrix': {'type': 'list[list[float]]', 'description': 'Matrix defining adhesion energies between different cell types.'}, 'motility': {'type': 'float', 'default': 0.1, 'description': 'Motility coefficient for the cells.'}}, 'boundary_conditions': {}, 'contained_object_types': ['Cell']}\n",
      "Schema saved to schema/object/cpm_field.json\n"
     ]
    }
   ],
   "execution_count": 1
  },
  {
   "metadata": {
    "ExecuteTime": {
     "end_time": "2024-12-01T21:38:48.262096Z",
     "start_time": "2024-12-01T21:38:48.260429Z"
    }
   },
   "cell_type": "code",
   "source": [
    "# # Create an instance of CPMCellsField\n",
    "# cpm_cells_field_instance = cpm_field.create_instance(\n",
    "#     type_name=\"CPMCellsField\",\n",
    "#     attributes={\n",
    "#         \"bounds\": {\"x\": 100.0, \n",
    "#                    \"y\": 100.0, \n",
    "#                    \"z\": 100.0},\n",
    "#         \"grid_size\": {\"x\": 10.0, \n",
    "#                       \"y\": 10.0, \"z\": \n",
    "#                           10.0},\n",
    "#         \"cell_species\": [\"species1\", \"species2\"],\n",
    "#         \"cells\": [],\n",
    "#         \"temperature\": 37.0,\n",
    "#         \"adhesion_matrix\": [[0.1, 0.2], \n",
    "#                             [0.2, 0.1]],\n",
    "#         \"motility\": 0.1\n",
    "#     },\n",
    "#     boundary_conditions={},\n",
    "#     contained_objects={\"Cell\": \"example_cell\"}\n",
    "# )\n",
    "# \n",
    "# # Print the instance to verify\n",
    "# print(cpm_cells_field_instance)"
   ],
   "id": "24e70d63ea3bdda6",
   "outputs": [],
   "execution_count": 2
  },
  {
   "metadata": {
    "ExecuteTime": {
     "end_time": "2024-12-01T21:38:48.335525Z",
     "start_time": "2024-12-01T21:38:48.334123Z"
    }
   },
   "cell_type": "code",
   "source": "",
   "id": "4804d0eb5408fbca",
   "outputs": [],
   "execution_count": null
  }
 ],
 "metadata": {
  "kernelspec": {
   "display_name": "Python 3",
   "language": "python",
   "name": "python3"
  },
  "language_info": {
   "codemirror_mode": {
    "name": "ipython",
    "version": 2
   },
   "file_extension": ".py",
   "mimetype": "text/x-python",
   "name": "python",
   "nbconvert_exporter": "python",
   "pygments_lexer": "ipython2",
   "version": "2.7.6"
  }
 },
 "nbformat": 4,
 "nbformat_minor": 5
}
