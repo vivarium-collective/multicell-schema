{
 "cells": [
  {
   "cell_type": "code",
   "id": "initial_id",
   "metadata": {
    "collapsed": true,
    "ExecuteTime": {
     "end_time": "2024-12-01T20:17:44.666414Z",
     "start_time": "2024-12-01T20:17:44.590725Z"
    }
   },
   "source": [
    "# Import the ObjectCreator class\n",
    "from library.builder import ObjectCreator\n",
    "\n",
    "# Create an Object\n",
    "cpm_field = ObjectCreator(\n",
    "    name=\"CPMCellsField\",\n",
    "    attributes={\n",
    "        \"bounds\": {\"x\": \"float\", \n",
    "                   \"y\": \"float\", \n",
    "                   \"z\": \"float\"},\n",
    "        \"grid_size\": {\"x\": \"float\", \n",
    "                      \"y\": \"float\", \n",
    "                      \"z\": \"float\"},\n",
    "        \"cell_species\": {\"type\": \"list[string]\", \n",
    "                         \"default\": \"[x]\", \n",
    "                         \"description\": \"List of the cell species.\"},\n",
    "        \"cells\": {\"type\": \"list[Cell]\", \n",
    "                  \"default\": \"[]\", \n",
    "                  \"description\": \"List of cells.\"},\n",
    "        \"temperature\": {\"type\": \"float\", \n",
    "                        \"default\": 37.0,\n",
    "                        \"description\": \"Temperature of the Cellular Potts model environment.\"},\n",
    "        \"adhesion_matrix\": {\"type\": \"list[list[float]]\",\n",
    "                            \"description\": \"Matrix defining adhesion energies between different cell types.\"},\n",
    "        \"motility\": {\"type\": \"float\", \n",
    "                     \"default\": 0.1, \n",
    "                     \"description\": \"Motility coefficient for the cells.\"}\n",
    "    },\n",
    "    boundary_conditions={},\n",
    "    contained_objects={\"Cell\": {\"type\": \"string\"}}\n",
    ")\n",
    "\n",
    "# Print the schema\n",
    "print(cpm_field.schema)\n",
    "\n",
    "cpm_field.save(\"cpm_field.json\")"
   ],
   "outputs": [
    {
     "name": "stdout",
     "output_type": "stream",
     "text": [
      "{'type': 'CPMCellsField', 'properties': {}, 'required': [], 'attributes': {'bounds': {'x': 'float', 'y': 'float', 'z': 'float'}, 'grid_size': {'x': 'float', 'y': 'float', 'z': 'float'}, 'cell_species': {'type': 'list[string]', 'default': '[x]', 'description': 'List of the cell species.'}, 'cells': {'type': 'list[Cell]', 'default': '[]', 'description': 'List of cells.'}, 'temperature': {'type': 'float', 'default': 37.0, 'description': 'Temperature of the Cellular Potts model environment.'}, 'adhesion_matrix': {'type': 'list[list[float]]', 'description': 'Matrix defining adhesion energies between different cell types.'}, 'motility': {'type': 'float', 'default': 0.1, 'description': 'Motility coefficient for the cells.'}}, 'boundary_conditions': {}, 'contained_object_types': ['Cell']}\n",
      "Schema CPMCellsField is valid.\n",
      "Schema saved to schema/object/cpm_field.json\n"
     ]
    }
   ],
   "execution_count": 1
  },
  {
   "metadata": {
    "ExecuteTime": {
     "end_time": "2024-12-01T20:05:38.363749Z",
     "start_time": "2024-12-01T20:05:38.276794Z"
    }
   },
   "cell_type": "code",
   "source": [
    "# # Create an instance of CPMCellsField\n",
    "# cpm_cells_field_instance = cpm_field.create_instance(\n",
    "#     type_name=\"CPMCellsField\",\n",
    "#     attributes={\n",
    "#         \"bounds\": {\"x\": 100.0, \n",
    "#                    \"y\": 100.0, \n",
    "#                    \"z\": 100.0},\n",
    "#         \"grid_size\": {\"x\": 10.0, \n",
    "#                       \"y\": 10.0, \"z\": \n",
    "#                           10.0},\n",
    "#         \"cell_species\": [\"species1\", \"species2\"],\n",
    "#         \"cells\": [],\n",
    "#         \"temperature\": 37.0,\n",
    "#         \"adhesion_matrix\": [[0.1, 0.2], \n",
    "#                             [0.2, 0.1]],\n",
    "#         \"motility\": 0.1\n",
    "#     },\n",
    "#     boundary_conditions={},\n",
    "#     contained_objects={\"Cell\": \"example_cell\"}\n",
    "# )\n",
    "# \n",
    "# # Print the instance to verify\n",
    "# print(cpm_cells_field_instance)"
   ],
   "id": "24e70d63ea3bdda6",
   "outputs": [
    {
     "ename": "AttributeError",
     "evalue": "'ObjectCreator' object has no attribute 'create_instance'",
     "output_type": "error",
     "traceback": [
      "\u001B[0;31m---------------------------------------------------------------------------\u001B[0m",
      "\u001B[0;31mAttributeError\u001B[0m                            Traceback (most recent call last)",
      "Cell \u001B[0;32mIn[2], line 2\u001B[0m\n\u001B[1;32m      1\u001B[0m \u001B[38;5;66;03m# Create an instance of CPMCellsField\u001B[39;00m\n\u001B[0;32m----> 2\u001B[0m cpm_cells_field_instance \u001B[38;5;241m=\u001B[39m \u001B[43mcpm_field\u001B[49m\u001B[38;5;241;43m.\u001B[39;49m\u001B[43mcreate_instance\u001B[49m(\n\u001B[1;32m      3\u001B[0m     type_name\u001B[38;5;241m=\u001B[39m\u001B[38;5;124m\"\u001B[39m\u001B[38;5;124mCPMCellsField\u001B[39m\u001B[38;5;124m\"\u001B[39m,\n\u001B[1;32m      4\u001B[0m     attributes\u001B[38;5;241m=\u001B[39m{\n\u001B[1;32m      5\u001B[0m         \u001B[38;5;124m\"\u001B[39m\u001B[38;5;124mbounds\u001B[39m\u001B[38;5;124m\"\u001B[39m: {\u001B[38;5;124m\"\u001B[39m\u001B[38;5;124mx\u001B[39m\u001B[38;5;124m\"\u001B[39m: \u001B[38;5;241m100.0\u001B[39m, \n\u001B[1;32m      6\u001B[0m                    \u001B[38;5;124m\"\u001B[39m\u001B[38;5;124my\u001B[39m\u001B[38;5;124m\"\u001B[39m: \u001B[38;5;241m100.0\u001B[39m, \n\u001B[1;32m      7\u001B[0m                    \u001B[38;5;124m\"\u001B[39m\u001B[38;5;124mz\u001B[39m\u001B[38;5;124m\"\u001B[39m: \u001B[38;5;241m100.0\u001B[39m},\n\u001B[1;32m      8\u001B[0m         \u001B[38;5;124m\"\u001B[39m\u001B[38;5;124mgrid_size\u001B[39m\u001B[38;5;124m\"\u001B[39m: {\u001B[38;5;124m\"\u001B[39m\u001B[38;5;124mx\u001B[39m\u001B[38;5;124m\"\u001B[39m: \u001B[38;5;241m10.0\u001B[39m, \n\u001B[1;32m      9\u001B[0m                       \u001B[38;5;124m\"\u001B[39m\u001B[38;5;124my\u001B[39m\u001B[38;5;124m\"\u001B[39m: \u001B[38;5;241m10.0\u001B[39m, \u001B[38;5;124m\"\u001B[39m\u001B[38;5;124mz\u001B[39m\u001B[38;5;124m\"\u001B[39m: \n\u001B[1;32m     10\u001B[0m                           \u001B[38;5;241m10.0\u001B[39m},\n\u001B[1;32m     11\u001B[0m         \u001B[38;5;124m\"\u001B[39m\u001B[38;5;124mcell_species\u001B[39m\u001B[38;5;124m\"\u001B[39m: [\u001B[38;5;124m\"\u001B[39m\u001B[38;5;124mspecies1\u001B[39m\u001B[38;5;124m\"\u001B[39m, \u001B[38;5;124m\"\u001B[39m\u001B[38;5;124mspecies2\u001B[39m\u001B[38;5;124m\"\u001B[39m],\n\u001B[1;32m     12\u001B[0m         \u001B[38;5;124m\"\u001B[39m\u001B[38;5;124mcells\u001B[39m\u001B[38;5;124m\"\u001B[39m: [],\n\u001B[1;32m     13\u001B[0m         \u001B[38;5;124m\"\u001B[39m\u001B[38;5;124mtemperature\u001B[39m\u001B[38;5;124m\"\u001B[39m: \u001B[38;5;241m37.0\u001B[39m,\n\u001B[1;32m     14\u001B[0m         \u001B[38;5;124m\"\u001B[39m\u001B[38;5;124madhesion_matrix\u001B[39m\u001B[38;5;124m\"\u001B[39m: [[\u001B[38;5;241m0.1\u001B[39m, \u001B[38;5;241m0.2\u001B[39m], \n\u001B[1;32m     15\u001B[0m                             [\u001B[38;5;241m0.2\u001B[39m, \u001B[38;5;241m0.1\u001B[39m]],\n\u001B[1;32m     16\u001B[0m         \u001B[38;5;124m\"\u001B[39m\u001B[38;5;124mmotility\u001B[39m\u001B[38;5;124m\"\u001B[39m: \u001B[38;5;241m0.1\u001B[39m\n\u001B[1;32m     17\u001B[0m     },\n\u001B[1;32m     18\u001B[0m     boundary_conditions\u001B[38;5;241m=\u001B[39m{},\n\u001B[1;32m     19\u001B[0m     contained_objects\u001B[38;5;241m=\u001B[39m{\u001B[38;5;124m\"\u001B[39m\u001B[38;5;124mCell\u001B[39m\u001B[38;5;124m\"\u001B[39m: \u001B[38;5;124m\"\u001B[39m\u001B[38;5;124mexample_cell\u001B[39m\u001B[38;5;124m\"\u001B[39m}\n\u001B[1;32m     20\u001B[0m )\n\u001B[1;32m     22\u001B[0m \u001B[38;5;66;03m# Print the instance to verify\u001B[39;00m\n\u001B[1;32m     23\u001B[0m \u001B[38;5;28mprint\u001B[39m(cpm_cells_field_instance)\n",
      "\u001B[0;31mAttributeError\u001B[0m: 'ObjectCreator' object has no attribute 'create_instance'"
     ]
    }
   ],
   "execution_count": 2
  },
  {
   "metadata": {},
   "cell_type": "code",
   "outputs": [],
   "execution_count": null,
   "source": "",
   "id": "4804d0eb5408fbca"
  }
 ],
 "metadata": {
  "kernelspec": {
   "display_name": "Python 3",
   "language": "python",
   "name": "python3"
  },
  "language_info": {
   "codemirror_mode": {
    "name": "ipython",
    "version": 2
   },
   "file_extension": ".py",
   "mimetype": "text/x-python",
   "name": "python",
   "nbconvert_exporter": "python",
   "pygments_lexer": "ipython2",
   "version": "2.7.6"
  }
 },
 "nbformat": 4,
 "nbformat_minor": 5
}
